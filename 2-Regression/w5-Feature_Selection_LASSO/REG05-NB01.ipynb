{
 "cells": [
  {
   "cell_type": "markdown",
   "metadata": {},
   "source": [
    "# Regression Week 5: Feature Selection and LASSO (Interpretation)"
   ]
  },
  {
   "cell_type": "markdown",
   "metadata": {},
   "source": [
    "In this notebook, you will use LASSO to select features, building on a pre-implemented solver for LASSO (using Turi Create, though you can use other solvers). You will:\n",
    "* Run LASSO with different L1 penalties.\n",
    "* Choose best L1 penalty using a validation set.\n",
    "* Choose best L1 penalty using a validation set, with additional constraint on the size of subset.\n",
    "\n",
    "In the second notebook, you will implement your own LASSO solver, using coordinate descent. "
   ]
  },
  {
   "cell_type": "markdown",
   "metadata": {},
   "source": [
    "# Fire up Turi Create"
   ]
  },
  {
   "cell_type": "code",
   "execution_count": 1,
   "metadata": {},
   "outputs": [],
   "source": [
    "import turicreate"
   ]
  },
  {
   "cell_type": "markdown",
   "metadata": {},
   "source": [
    "# Load in house sales data\n",
    "\n",
    "Dataset is from house sales in King County, the region where the city of Seattle, WA is located."
   ]
  },
  {
   "cell_type": "code",
   "execution_count": 2,
   "metadata": {
    "scrolled": true
   },
   "outputs": [],
   "source": [
    "sales = turicreate.SFrame('home_data.sframe/')"
   ]
  },
  {
   "cell_type": "markdown",
   "metadata": {},
   "source": [
    "# Create new features"
   ]
  },
  {
   "cell_type": "markdown",
   "metadata": {},
   "source": [
    "As in Week 2, we consider features that are some transformations of inputs."
   ]
  },
  {
   "cell_type": "code",
   "execution_count": 3,
   "metadata": {},
   "outputs": [],
   "source": [
    "from math import log, sqrt\n",
    "sales['sqft_living_sqrt'] = sales['sqft_living'].apply(sqrt)\n",
    "sales['sqft_lot_sqrt'] = sales['sqft_lot'].apply(sqrt)\n",
    "sales['bedrooms_square'] = sales['bedrooms']*sales['bedrooms']\n",
    "\n",
    "# In the dataset, 'floors' was defined with type string, \n",
    "# so we'll convert them to float, before creating a new feature.\n",
    "sales['floors'] = sales['floors'].astype(float) \n",
    "sales['floors_square'] = sales['floors']*sales['floors']"
   ]
  },
  {
   "cell_type": "markdown",
   "metadata": {},
   "source": [
    "* Squaring bedrooms will increase the separation between not many bedrooms (e.g. 1) and lots of bedrooms (e.g. 4) since 1^2 = 1 but 4^2 = 16. Consequently this variable will mostly affect houses with many bedrooms.\n",
    "* On the other hand, taking square root of sqft_living will decrease the separation between big house and small house. The owner may not be exactly twice as happy for getting a house that is twice as big."
   ]
  },
  {
   "cell_type": "markdown",
   "metadata": {},
   "source": [
    "# Learn regression weights with L1 penalty"
   ]
  },
  {
   "cell_type": "markdown",
   "metadata": {},
   "source": [
    "Let us fit a model with all the features available, plus the features we just created above."
   ]
  },
  {
   "cell_type": "code",
   "execution_count": 4,
   "metadata": {},
   "outputs": [],
   "source": [
    "all_features = ['bedrooms', 'bedrooms_square',\n",
    "                'bathrooms',\n",
    "                'sqft_living', 'sqft_living_sqrt',\n",
    "                'sqft_lot', 'sqft_lot_sqrt',\n",
    "                'floors', 'floors_square',\n",
    "                'waterfront', 'view', 'condition', 'grade',\n",
    "                'sqft_above',\n",
    "                'sqft_basement',\n",
    "                'yr_built', 'yr_renovated']"
   ]
  },
  {
   "cell_type": "markdown",
   "metadata": {},
   "source": [
    "Applying L1 penalty requires adding an extra parameter (`l1_penalty`) to the linear regression call in Turi Create. (Other tools may have separate implementations of LASSO.)  Note that it's important to set `l2_penalty=0` to ensure we don't introduce an additional L2 penalty."
   ]
  },
  {
   "cell_type": "code",
   "execution_count": 5,
   "metadata": {},
   "outputs": [
    {
     "data": {
      "text/html": [
       "<pre>Linear regression:</pre>"
      ],
      "text/plain": [
       "Linear regression:"
      ]
     },
     "metadata": {},
     "output_type": "display_data"
    },
    {
     "data": {
      "text/html": [
       "<pre>--------------------------------------------------------</pre>"
      ],
      "text/plain": [
       "--------------------------------------------------------"
      ]
     },
     "metadata": {},
     "output_type": "display_data"
    },
    {
     "data": {
      "text/html": [
       "<pre>Number of examples          : 21613</pre>"
      ],
      "text/plain": [
       "Number of examples          : 21613"
      ]
     },
     "metadata": {},
     "output_type": "display_data"
    },
    {
     "data": {
      "text/html": [
       "<pre>Number of features          : 17</pre>"
      ],
      "text/plain": [
       "Number of features          : 17"
      ]
     },
     "metadata": {},
     "output_type": "display_data"
    },
    {
     "data": {
      "text/html": [
       "<pre>Number of unpacked features : 17</pre>"
      ],
      "text/plain": [
       "Number of unpacked features : 17"
      ]
     },
     "metadata": {},
     "output_type": "display_data"
    },
    {
     "data": {
      "text/html": [
       "<pre>Number of coefficients    : 18</pre>"
      ],
      "text/plain": [
       "Number of coefficients    : 18"
      ]
     },
     "metadata": {},
     "output_type": "display_data"
    },
    {
     "data": {
      "text/html": [
       "<pre>Starting Accelerated Gradient (FISTA)</pre>"
      ],
      "text/plain": [
       "Starting Accelerated Gradient (FISTA)"
      ]
     },
     "metadata": {},
     "output_type": "display_data"
    },
    {
     "data": {
      "text/html": [
       "<pre>--------------------------------------------------------</pre>"
      ],
      "text/plain": [
       "--------------------------------------------------------"
      ]
     },
     "metadata": {},
     "output_type": "display_data"
    },
    {
     "data": {
      "text/html": [
       "<pre>Tuning step size. First iteration could take longer than subsequent iterations.</pre>"
      ],
      "text/plain": [
       "Tuning step size. First iteration could take longer than subsequent iterations."
      ]
     },
     "metadata": {},
     "output_type": "display_data"
    },
    {
     "data": {
      "text/html": [
       "<pre>+-----------+----------+-----------+--------------+--------------------+---------------------------------+</pre>"
      ],
      "text/plain": [
       "+-----------+----------+-----------+--------------+--------------------+---------------------------------+"
      ]
     },
     "metadata": {},
     "output_type": "display_data"
    },
    {
     "data": {
      "text/html": [
       "<pre>| Iteration | Passes   | Step size | Elapsed Time | Training Max Error | Training Root-Mean-Square Error |</pre>"
      ],
      "text/plain": [
       "| Iteration | Passes   | Step size | Elapsed Time | Training Max Error | Training Root-Mean-Square Error |"
      ]
     },
     "metadata": {},
     "output_type": "display_data"
    },
    {
     "data": {
      "text/html": [
       "<pre>+-----------+----------+-----------+--------------+--------------------+---------------------------------+</pre>"
      ],
      "text/plain": [
       "+-----------+----------+-----------+--------------+--------------------+---------------------------------+"
      ]
     },
     "metadata": {},
     "output_type": "display_data"
    },
    {
     "data": {
      "text/html": [
       "<pre>| 0         | 1        | 1.000000  | 1.009828     | 7700000.000000     | 653047.733994                   |</pre>"
      ],
      "text/plain": [
       "| 0         | 1        | 1.000000  | 1.009828     | 7700000.000000     | 653047.733994                   |"
      ]
     },
     "metadata": {},
     "output_type": "display_data"
    },
    {
     "data": {
      "text/html": [
       "<pre>| 1         | 2        | 0.000002  | 1.266661     | 6962915.603493     | 426631.749026                   |</pre>"
      ],
      "text/plain": [
       "| 1         | 2        | 0.000002  | 1.266661     | 6962915.603493     | 426631.749026                   |"
      ]
     },
     "metadata": {},
     "output_type": "display_data"
    },
    {
     "data": {
      "text/html": [
       "<pre>| 2         | 3        | 0.000002  | 1.288823     | 6843144.200219     | 392488.929838                   |</pre>"
      ],
      "text/plain": [
       "| 2         | 3        | 0.000002  | 1.288823     | 6843144.200219     | 392488.929838                   |"
      ]
     },
     "metadata": {},
     "output_type": "display_data"
    },
    {
     "data": {
      "text/html": [
       "<pre>| 3         | 4        | 0.000002  | 1.313089     | 6831900.032123     | 385340.166783                   |</pre>"
      ],
      "text/plain": [
       "| 3         | 4        | 0.000002  | 1.313089     | 6831900.032123     | 385340.166783                   |"
      ]
     },
     "metadata": {},
     "output_type": "display_data"
    },
    {
     "data": {
      "text/html": [
       "<pre>| 4         | 5        | 0.000002  | 1.341970     | 6847166.848958     | 384842.383767                   |</pre>"
      ],
      "text/plain": [
       "| 4         | 5        | 0.000002  | 1.341970     | 6847166.848958     | 384842.383767                   |"
      ]
     },
     "metadata": {},
     "output_type": "display_data"
    },
    {
     "data": {
      "text/html": [
       "<pre>| 5         | 6        | 0.000002  | 1.365138     | 6869667.895833     | 385998.458623                   |</pre>"
      ],
      "text/plain": [
       "| 5         | 6        | 0.000002  | 1.365138     | 6869667.895833     | 385998.458623                   |"
      ]
     },
     "metadata": {},
     "output_type": "display_data"
    },
    {
     "data": {
      "text/html": [
       "<pre>| 10        | 11       | 0.000002  | 1.477531     | 6842123.232651     | 364204.576180                   |</pre>"
      ],
      "text/plain": [
       "| 10        | 11       | 0.000002  | 1.477531     | 6842123.232651     | 364204.576180                   |"
      ]
     },
     "metadata": {},
     "output_type": "display_data"
    },
    {
     "data": {
      "text/html": [
       "<pre>+-----------+----------+-----------+--------------+--------------------+---------------------------------+</pre>"
      ],
      "text/plain": [
       "+-----------+----------+-----------+--------------+--------------------+---------------------------------+"
      ]
     },
     "metadata": {},
     "output_type": "display_data"
    },
    {
     "data": {
      "text/html": [
       "<pre>Completed (Iteration limit reached).</pre>"
      ],
      "text/plain": [
       "Completed (Iteration limit reached)."
      ]
     },
     "metadata": {},
     "output_type": "display_data"
    },
    {
     "data": {
      "text/html": [
       "<pre>This model may not be optimal. To improve it, consider increasing `max_iterations`.</pre>"
      ],
      "text/plain": [
       "This model may not be optimal. To improve it, consider increasing `max_iterations`."
      ]
     },
     "metadata": {},
     "output_type": "display_data"
    }
   ],
   "source": [
    "model_all = turicreate.linear_regression.create(sales, target='price', features=all_features,\n",
    "                                                validation_set=None, \n",
    "                                                l2_penalty=0., l1_penalty=1e10)"
   ]
  },
  {
   "cell_type": "markdown",
   "metadata": {},
   "source": [
    "Find what features had non-zero weight."
   ]
  },
  {
   "cell_type": "code",
   "execution_count": 6,
   "metadata": {},
   "outputs": [
    {
     "name": "stdout",
     "output_type": "stream",
     "text": [
      "+------------------+-------+--------------------+--------+\n",
      "|       name       | index |       value        | stderr |\n",
      "+------------------+-------+--------------------+--------+\n",
      "|   (intercept)    |  None | 274873.05595049576 |  None  |\n",
      "|     bedrooms     |  None |        0.0         |  None  |\n",
      "| bedrooms_square  |  None |        0.0         |  None  |\n",
      "|    bathrooms     |  None | 8468.531086910105  |  None  |\n",
      "|   sqft_living    |  None | 24.42072098244546  |  None  |\n",
      "| sqft_living_sqrt |  None | 350.06055338605546 |  None  |\n",
      "|     sqft_lot     |  None |        0.0         |  None  |\n",
      "|  sqft_lot_sqrt   |  None |        0.0         |  None  |\n",
      "|      floors      |  None |        0.0         |  None  |\n",
      "|  floors_square   |  None |        0.0         |  None  |\n",
      "|    waterfront    |  None |        0.0         |  None  |\n",
      "|       view       |  None |        0.0         |  None  |\n",
      "|    condition     |  None |        0.0         |  None  |\n",
      "|      grade       |  None | 842.0680348976231  |  None  |\n",
      "|    sqft_above    |  None | 20.024722417091112 |  None  |\n",
      "|  sqft_basement   |  None |        0.0         |  None  |\n",
      "|     yr_built     |  None |        0.0         |  None  |\n",
      "|   yr_renovated   |  None |        0.0         |  None  |\n",
      "+------------------+-------+--------------------+--------+\n",
      "[18 rows x 4 columns]\n",
      "\n"
     ]
    }
   ],
   "source": [
    "model_all.coefficients.print_rows(num_rows=20)"
   ]
  },
  {
   "cell_type": "markdown",
   "metadata": {},
   "source": [
    "Note that a majority of the weights have been set to zero. So by setting an L1 penalty that's large enough, we are performing a subset selection. \n",
    "\n",
    "***QUIZ QUESTION***:\n",
    "According to this list of weights, which of the features have been chosen? \n",
    "\n",
    "    - bathrooms\n",
    "    - sqft_living\n",
    "    - sqft_living_sqrt\n",
    "    - grade\n",
    "    - sqft_above\n",
    "    "
   ]
  },
  {
   "cell_type": "markdown",
   "metadata": {},
   "source": [
    "# Selecting an L1 penalty"
   ]
  },
  {
   "cell_type": "markdown",
   "metadata": {},
   "source": [
    "To find a good L1 penalty, we will explore multiple values using a validation set. Let us do three way split into train, validation, and test sets:\n",
    "* Split our sales data into 2 sets: training and test\n",
    "* Further split our training data into two sets: train, validation\n",
    "\n",
    "Be *very* careful that you use seed = 1 to ensure you get the same answer!"
   ]
  },
  {
   "cell_type": "code",
   "execution_count": 7,
   "metadata": {},
   "outputs": [],
   "source": [
    "(training_and_validation, testing) = sales.random_split(.9,seed=1) # initial train/test split\n",
    "(training, validation) = training_and_validation.random_split(0.5, seed=1) # split training into train and validate"
   ]
  },
  {
   "cell_type": "markdown",
   "metadata": {},
   "source": [
    "Next, we write a loop that does the following:\n",
    "* For `l1_penalty` in [10^1, 10^1.5, 10^2, 10^2.5, ..., 10^7] (to get this in Python, type `np.logspace(1, 7, num=13)`.)\n",
    "    * Fit a regression model with a given `l1_penalty` on TRAIN data. Specify `l1_penalty=l1_penalty` and `l2_penalty=0.` in the parameter list.\n",
    "    * Compute the RSS on VALIDATION data (here you will want to use `.predict()`) for that `l1_penalty`\n",
    "* Report which `l1_penalty` produced the lowest RSS on validation data.\n",
    "\n",
    "When you call `linear_regression.create()` make sure you set `validation_set = None`.\n",
    "\n",
    "Note: you can turn off the print out of `linear_regression.create()` with `verbose = False`"
   ]
  },
  {
   "cell_type": "code",
   "execution_count": 8,
   "metadata": {},
   "outputs": [
    {
     "name": "stdout",
     "output_type": "stream",
     "text": [
      "1.00e+01 \t 6.2576628514e+14\n",
      "3.16e+01 \t 6.2576628536e+14\n",
      "1.00e+02 \t 6.2576628606e+14\n",
      "3.16e+02 \t 6.2576628826e+14\n",
      "1.00e+03 \t 6.2576629521e+14\n",
      "3.16e+03 \t 6.2576631721e+14\n",
      "1.00e+04 \t 6.2576638676e+14\n",
      "3.16e+04 \t 6.2576660675e+14\n",
      "1.00e+05 \t 6.2576730279e+14\n",
      "3.16e+05 \t 6.2576950764e+14\n",
      "1.00e+06 \t 6.2577651773e+14\n",
      "3.16e+06 \t 6.2579906285e+14\n",
      "1.00e+07 \t 6.2588371909e+14\n"
     ]
    }
   ],
   "source": [
    "import numpy as np\n",
    "rss = []\n",
    "l1_p_array = []\n",
    "for l1_penalty in np.logspace(1, 7, num=13):\n",
    "    model = turicreate.linear_regression.create(training,\n",
    "                                                target='price',\n",
    "                                                features=all_features,\n",
    "                                                l1_penalty=l1_penalty,\n",
    "                                                l2_penalty=0,\n",
    "                                                validation_set=None,\n",
    "                                                verbose=False)\n",
    "    predictions = model.predict(validation)\n",
    "    residuals = predictions - validation['price']\n",
    "    residuals *= residuals\n",
    "    rss.append(residuals.sum())\n",
    "    l1_p_array.append(l1_penalty)\n",
    "    print('{:.2e}'.format(l1_penalty), '\\t', '{:.10e}'.format(residuals.sum()))"
   ]
  },
  {
   "cell_type": "code",
   "execution_count": null,
   "metadata": {},
   "outputs": [],
   "source": []
  },
  {
   "cell_type": "markdown",
   "metadata": {},
   "source": [
    "***QUIZ QUESTION.*** What was the best value for the `l1_penalty`?\n",
    "\n",
    "    10"
   ]
  },
  {
   "cell_type": "code",
   "execution_count": 9,
   "metadata": {},
   "outputs": [
    {
     "data": {
      "text/html": [
       "<pre>Linear regression:</pre>"
      ],
      "text/plain": [
       "Linear regression:"
      ]
     },
     "metadata": {},
     "output_type": "display_data"
    },
    {
     "data": {
      "text/html": [
       "<pre>--------------------------------------------------------</pre>"
      ],
      "text/plain": [
       "--------------------------------------------------------"
      ]
     },
     "metadata": {},
     "output_type": "display_data"
    },
    {
     "data": {
      "text/html": [
       "<pre>Number of examples          : 9761</pre>"
      ],
      "text/plain": [
       "Number of examples          : 9761"
      ]
     },
     "metadata": {},
     "output_type": "display_data"
    },
    {
     "data": {
      "text/html": [
       "<pre>Number of features          : 17</pre>"
      ],
      "text/plain": [
       "Number of features          : 17"
      ]
     },
     "metadata": {},
     "output_type": "display_data"
    },
    {
     "data": {
      "text/html": [
       "<pre>Number of unpacked features : 17</pre>"
      ],
      "text/plain": [
       "Number of unpacked features : 17"
      ]
     },
     "metadata": {},
     "output_type": "display_data"
    },
    {
     "data": {
      "text/html": [
       "<pre>Number of coefficients    : 18</pre>"
      ],
      "text/plain": [
       "Number of coefficients    : 18"
      ]
     },
     "metadata": {},
     "output_type": "display_data"
    },
    {
     "data": {
      "text/html": [
       "<pre>Starting Accelerated Gradient (FISTA)</pre>"
      ],
      "text/plain": [
       "Starting Accelerated Gradient (FISTA)"
      ]
     },
     "metadata": {},
     "output_type": "display_data"
    },
    {
     "data": {
      "text/html": [
       "<pre>--------------------------------------------------------</pre>"
      ],
      "text/plain": [
       "--------------------------------------------------------"
      ]
     },
     "metadata": {},
     "output_type": "display_data"
    },
    {
     "data": {
      "text/html": [
       "<pre>Tuning step size. First iteration could take longer than subsequent iterations.</pre>"
      ],
      "text/plain": [
       "Tuning step size. First iteration could take longer than subsequent iterations."
      ]
     },
     "metadata": {},
     "output_type": "display_data"
    },
    {
     "data": {
      "text/html": [
       "<pre>+-----------+----------+-----------+--------------+--------------------+---------------------------------+</pre>"
      ],
      "text/plain": [
       "+-----------+----------+-----------+--------------+--------------------+---------------------------------+"
      ]
     },
     "metadata": {},
     "output_type": "display_data"
    },
    {
     "data": {
      "text/html": [
       "<pre>| Iteration | Passes   | Step size | Elapsed Time | Training Max Error | Training Root-Mean-Square Error |</pre>"
      ],
      "text/plain": [
       "| Iteration | Passes   | Step size | Elapsed Time | Training Max Error | Training Root-Mean-Square Error |"
      ]
     },
     "metadata": {},
     "output_type": "display_data"
    },
    {
     "data": {
      "text/html": [
       "<pre>+-----------+----------+-----------+--------------+--------------------+---------------------------------+</pre>"
      ],
      "text/plain": [
       "+-----------+----------+-----------+--------------+--------------------+---------------------------------+"
      ]
     },
     "metadata": {},
     "output_type": "display_data"
    },
    {
     "data": {
      "text/html": [
       "<pre>| 0         | 1        | 1.000000  | 0.012046     | 7700000.000000     | 662259.538545                   |</pre>"
      ],
      "text/plain": [
       "| 0         | 1        | 1.000000  | 0.012046     | 7700000.000000     | 662259.538545                   |"
      ]
     },
     "metadata": {},
     "output_type": "display_data"
    },
    {
     "data": {
      "text/html": [
       "<pre>| 1         | 2        | 0.000003  | 0.337414     | 6287414.310279     | 322429.554621                   |</pre>"
      ],
      "text/plain": [
       "| 1         | 2        | 0.000003  | 0.337414     | 6287414.310279     | 322429.554621                   |"
      ]
     },
     "metadata": {},
     "output_type": "display_data"
    },
    {
     "data": {
      "text/html": [
       "<pre>| 2         | 3        | 0.000003  | 0.365883     | 6004129.870008     | 303352.364502                   |</pre>"
      ],
      "text/plain": [
       "| 2         | 3        | 0.000003  | 0.365883     | 6004129.870008     | 303352.364502                   |"
      ]
     },
     "metadata": {},
     "output_type": "display_data"
    },
    {
     "data": {
      "text/html": [
       "<pre>| 3         | 4        | 0.000003  | 0.391922     | 5888882.499599     | 298370.510858                   |</pre>"
      ],
      "text/plain": [
       "| 3         | 4        | 0.000003  | 0.391922     | 5888882.499599     | 298370.510858                   |"
      ]
     },
     "metadata": {},
     "output_type": "display_data"
    },
    {
     "data": {
      "text/html": [
       "<pre>| 4         | 5        | 0.000003  | 0.417412     | 5813781.207975     | 293774.670687                   |</pre>"
      ],
      "text/plain": [
       "| 4         | 5        | 0.000003  | 0.417412     | 5813781.207975     | 293774.670687                   |"
      ]
     },
     "metadata": {},
     "output_type": "display_data"
    },
    {
     "data": {
      "text/html": [
       "<pre>| 5         | 6        | 0.000003  | 0.444101     | 5737572.318059     | 289374.784200                   |</pre>"
      ],
      "text/plain": [
       "| 5         | 6        | 0.000003  | 0.444101     | 5737572.318059     | 289374.784200                   |"
      ]
     },
     "metadata": {},
     "output_type": "display_data"
    },
    {
     "data": {
      "text/html": [
       "<pre>| 10        | 11       | 0.000003  | 0.583937     | 5329815.359960     | 273608.586502                   |</pre>"
      ],
      "text/plain": [
       "| 10        | 11       | 0.000003  | 0.583937     | 5329815.359960     | 273608.586502                   |"
      ]
     },
     "metadata": {},
     "output_type": "display_data"
    },
    {
     "data": {
      "text/html": [
       "<pre>+-----------+----------+-----------+--------------+--------------------+---------------------------------+</pre>"
      ],
      "text/plain": [
       "+-----------+----------+-----------+--------------+--------------------+---------------------------------+"
      ]
     },
     "metadata": {},
     "output_type": "display_data"
    },
    {
     "data": {
      "text/html": [
       "<pre>Completed (Iteration limit reached).</pre>"
      ],
      "text/plain": [
       "Completed (Iteration limit reached)."
      ]
     },
     "metadata": {},
     "output_type": "display_data"
    },
    {
     "data": {
      "text/html": [
       "<pre>This model may not be optimal. To improve it, consider increasing `max_iterations`.</pre>"
      ],
      "text/plain": [
       "This model may not be optimal. To improve it, consider increasing `max_iterations`."
      ]
     },
     "metadata": {},
     "output_type": "display_data"
    },
    {
     "name": "stdout",
     "output_type": "stream",
     "text": [
      "+------------------+-------+----------------------+--------+\n",
      "|       name       | index |        value         | stderr |\n",
      "+------------------+-------+----------------------+--------+\n",
      "|   (intercept)    |  None |   18993.4272127706   |  None  |\n",
      "|     bedrooms     |  None |  7936.9676790313015  |  None  |\n",
      "| bedrooms_square  |  None |  936.9933681932994   |  None  |\n",
      "|    bathrooms     |  None |  25409.588934120668  |  None  |\n",
      "|   sqft_living    |  None |  39.11513637970764   |  None  |\n",
      "| sqft_living_sqrt |  None |  1124.650212807717   |  None  |\n",
      "|     sqft_lot     |  None | 0.003483618222989654 |  None  |\n",
      "|  sqft_lot_sqrt   |  None |  148.25839101140826  |  None  |\n",
      "|      floors      |  None |  21204.335466950117  |  None  |\n",
      "|  floors_square   |  None |  12915.524336072433  |  None  |\n",
      "|    waterfront    |  None |   601905.594545272   |  None  |\n",
      "|       view       |  None |  93312.85731187189   |  None  |\n",
      "|    condition     |  None |  6609.035712447216   |  None  |\n",
      "|      grade       |  None |  6206.939991880552   |  None  |\n",
      "|    sqft_above    |  None |  43.287053419335614  |  None  |\n",
      "|  sqft_basement   |  None |  122.3678275341193   |  None  |\n",
      "|     yr_built     |  None |  9.433635393724911   |  None  |\n",
      "|   yr_renovated   |  None |  56.072003448822365  |  None  |\n",
      "+------------------+-------+----------------------+--------+\n",
      "[18 rows x 4 columns]\n",
      "\n",
      "None\n",
      "18\n"
     ]
    }
   ],
   "source": [
    "model_10 = turicreate.linear_regression.create(training,\n",
    "                                               target='price',\n",
    "                                               features=all_features,\n",
    "                                               validation_set=None,\n",
    "                                               l1_penalty=10,\n",
    "                                               l2_penalty=0)\n",
    "\n",
    "print(model_10.coefficients.print_rows(num_rows = 20))\n",
    "print(model_10.coefficients['value'].nnz())"
   ]
  },
  {
   "cell_type": "markdown",
   "metadata": {},
   "source": [
    "***QUIZ QUESTION***\n",
    "Also, using this value of L1 penalty, how many nonzero weights do you have?\n",
    "\n",
    "    18"
   ]
  },
  {
   "cell_type": "code",
   "execution_count": null,
   "metadata": {},
   "outputs": [],
   "source": []
  },
  {
   "cell_type": "markdown",
   "metadata": {},
   "source": [
    "# Limit the number of nonzero weights\n",
    "\n",
    "What if we absolutely wanted to limit ourselves to, say, 7 features? This may be important if we want to derive \"a rule of thumb\" --- an interpretable model that has only a few features in them."
   ]
  },
  {
   "cell_type": "markdown",
   "metadata": {},
   "source": [
    "In this section, you are going to implement a simple, two phase procedure to achive this goal:\n",
    "1. Explore a large range of `l1_penalty` values to find a narrow region of `l1_penalty` values where models are likely to have the desired number of non-zero weights.\n",
    "2. Further explore the narrow region you found to find a good value for `l1_penalty` that achieves the desired sparsity.  Here, we will again use a validation set to choose the best value for `l1_penalty`."
   ]
  },
  {
   "cell_type": "code",
   "execution_count": 10,
   "metadata": {},
   "outputs": [],
   "source": [
    "max_nonzeros = 7"
   ]
  },
  {
   "cell_type": "markdown",
   "metadata": {},
   "source": [
    "## Exploring the larger range of values to find a narrow range with the desired sparsity\n",
    "\n",
    "Let's define a wide range of possible `l1_penalty_values`:"
   ]
  },
  {
   "cell_type": "code",
   "execution_count": 11,
   "metadata": {},
   "outputs": [],
   "source": [
    "l1_penalty_values = np.logspace(8, 10, num=20)"
   ]
  },
  {
   "cell_type": "markdown",
   "metadata": {},
   "source": [
    "Now, implement a loop that search through this space of possible `l1_penalty` values:\n",
    "\n",
    "* For `l1_penalty` in `np.logspace(8, 10, num=20)`:\n",
    "    * Fit a regression model with a given `l1_penalty` on TRAIN data. Specify `l1_penalty=l1_penalty` and `l2_penalty=0.` in the parameter list. When you call `linear_regression.create()` make sure you set `validation_set = None`\n",
    "    * Extract the weights of the model and count the number of nonzeros. Save the number of nonzeros to a list.\n",
    "        * *Hint: `model.coefficients['value']` gives you an SArray with the parameters you learned.  If you call the method `.nnz()` on it, you will find the number of non-zero parameters!* "
   ]
  },
  {
   "cell_type": "code",
   "execution_count": 12,
   "metadata": {},
   "outputs": [
    {
     "name": "stdout",
     "output_type": "stream",
     "text": [
      "nnz:  18 max:  100000000.0\n",
      "nnz:  18 max:  127427498.57031322\n",
      "nnz:  18 max:  162377673.91887242\n",
      "nnz:  18 max:  206913808.111479\n",
      "nnz:  17 max:  263665089.87303555\n",
      "nnz:  17 max:  335981828.6283788\n",
      "nnz:  17 max:  428133239.8719396\n",
      "nnz:  17 max:  545559478.1168514\n",
      "nnz:  17 max:  695192796.1775591\n",
      "nnz:  16 max:  885866790.4100832\n",
      "nnz:  15 max:  1128837891.6846883\n",
      "nnz:  15 max:  1438449888.2876658\n",
      "nnz:  13 max:  1832980710.8324375\n",
      "nnz:  12 max:  2335721469.0901213\n",
      "nnz:  10 max:  2976351441.6313133\n",
      "nnz:  6 max:  3792690190.7322536\n",
      "nnz:  5 max:  4832930238.571753\n",
      "nnz:  3 max:  6158482110.6602545\n",
      "nnz:  1 max:  7847599703.514623\n",
      "nnz:  1 max:  10000000000.0\n"
     ]
    }
   ],
   "source": [
    "nnz_array = []\n",
    "for l1_penalty in l1_penalty_values:\n",
    "    model = turicreate.linear_regression.create(training,\n",
    "                                                target='price',\n",
    "                                                features=all_features,\n",
    "                                                l1_penalty=l1_penalty,\n",
    "                                                l2_penalty=0,\n",
    "                                                validation_set=None,\n",
    "                                                verbose=False)\n",
    "    nnz_value = model.coefficients['value'].nnz()\n",
    "    nnz_array.append(nnz_value)\n",
    "    #print('nnz: ', nnz_value,'max: ', '{:.2e}'.format(l1_penalty))\n",
    "    print('nnz: ', nnz_value,'max: ', l1_penalty)\n",
    "        "
   ]
  },
  {
   "cell_type": "markdown",
   "metadata": {},
   "source": [
    "Out of this large range, we want to find the two ends of our desired narrow range of `l1_penalty`.  At one end, we will have `l1_penalty` values that have too few non-zeros, and at the other end, we will have an `l1_penalty` that has too many non-zeros.  \n",
    "\n",
    "More formally, find:\n",
    "* The largest `l1_penalty` that has more non-zeros than `max_nonzeros` (if we pick a penalty smaller than this value, we will definitely have too many non-zero weights)\n",
    "    * Store this value in the variable `l1_penalty_min` (we will use it later)\n",
    "* The smallest `l1_penalty` that has fewer non-zeros than `max_nonzeros` (if we pick a penalty larger than this value, we will definitely have too few non-zero weights)\n",
    "    * Store this value in the variable `l1_penalty_max` (we will use it later)\n",
    "\n",
    "\n",
    "*Hint: there are many ways to do this, e.g.:*\n",
    "* Programmatically within the loop above\n",
    "* Creating a list with the number of non-zeros for each value of `l1_penalty` and inspecting it to find the appropriate boundaries."
   ]
  },
  {
   "cell_type": "code",
   "execution_count": 13,
   "metadata": {},
   "outputs": [],
   "source": [
    "l1_penalty_min = 2.97e+09\n",
    "l1_penalty_max = 3.79e+09"
   ]
  },
  {
   "cell_type": "markdown",
   "metadata": {},
   "source": [
    "***QUIZ QUESTION.*** What values did you find for `l1_penalty_min` and `l1_penalty_max`, respectively? \n",
    "\n",
    "    min: 2.97e+09\n",
    "    max: 3.79e+09 "
   ]
  },
  {
   "cell_type": "markdown",
   "metadata": {},
   "source": [
    "## Exploring the narrow range of values to find the solution with the right number of non-zeros that has lowest RSS on the validation set \n",
    "\n",
    "We will now explore the narrow region of `l1_penalty` values we found:"
   ]
  },
  {
   "cell_type": "code",
   "execution_count": 14,
   "metadata": {},
   "outputs": [],
   "source": [
    "l1_penalty_values = np.linspace(l1_penalty_min,l1_penalty_max,20)"
   ]
  },
  {
   "cell_type": "markdown",
   "metadata": {},
   "source": [
    "* For `l1_penalty` in `np.linspace(l1_penalty_min,l1_penalty_max,20)`:\n",
    "    * Fit a regression model with a given `l1_penalty` on TRAIN data. Specify `l1_penalty=l1_penalty` and `l2_penalty=0.` in the parameter list. When you call `linear_regression.create()` make sure you set `validation_set = None`\n",
    "    * Measure the RSS of the learned model on the VALIDATION set\n",
    "\n",
    "Find the model that the lowest RSS on the VALIDATION set and has sparsity *equal* to `max_nonzeros`."
   ]
  },
  {
   "cell_type": "code",
   "execution_count": 15,
   "metadata": {},
   "outputs": [
    {
     "name": "stdout",
     "output_type": "stream",
     "text": [
      "2970000000.0 \t 9.6588341965e+14\n",
      "+------------------+-------+--------------------+--------+\n",
      "|       name       | index |       value        | stderr |\n",
      "+------------------+-------+--------------------+--------+\n",
      "|   (intercept)    |  None | 195736.93367659138 |  None  |\n",
      "|     bedrooms     |  None | 2198.5122491853613 |  None  |\n",
      "| bedrooms_square  |  None |        0.0         |  None  |\n",
      "|    bathrooms     |  None | 17985.213991799552 |  None  |\n",
      "|   sqft_living    |  None | 34.16034786792188  |  None  |\n",
      "| sqft_living_sqrt |  None | 790.3749994815937  |  None  |\n",
      "|     sqft_lot     |  None |        0.0         |  None  |\n",
      "|  sqft_lot_sqrt   |  None |        0.0         |  None  |\n",
      "|      floors      |  None | 3711.4219505604297 |  None  |\n",
      "|  floors_square   |  None |        0.0         |  None  |\n",
      "|    waterfront    |  None |        0.0         |  None  |\n",
      "|       view       |  None | 11549.164785608646 |  None  |\n",
      "|    condition     |  None |        0.0         |  None  |\n",
      "|      grade       |  None | 3586.387664342387  |  None  |\n",
      "|    sqft_above    |  None | 32.77364997925878  |  None  |\n",
      "|  sqft_basement   |  None | 13.053318191044871 |  None  |\n",
      "|     yr_built     |  None |        0.0         |  None  |\n",
      "|   yr_renovated   |  None |        0.0         |  None  |\n",
      "+------------------+-------+--------------------+--------+\n",
      "[18 rows x 4 columns]\n",
      "\n",
      "None\n",
      "3013157894.736842 \t 9.7299791906e+14\n",
      "+------------------+-------+--------------------+--------+\n",
      "|       name       | index |       value        | stderr |\n",
      "+------------------+-------+--------------------+--------+\n",
      "|   (intercept)    |  None | 198210.28400158856 |  None  |\n",
      "|     bedrooms     |  None | 2083.4337838614624 |  None  |\n",
      "| bedrooms_square  |  None |        0.0         |  None  |\n",
      "|    bathrooms     |  None | 17832.218879795928 |  None  |\n",
      "|   sqft_living    |  None | 34.038847247503945 |  None  |\n",
      "| sqft_living_sqrt |  None | 783.2053602555821  |  None  |\n",
      "|     sqft_lot     |  None |        0.0         |  None  |\n",
      "|  sqft_lot_sqrt   |  None |        0.0         |  None  |\n",
      "|      floors      |  None | 3402.315244978437  |  None  |\n",
      "|  floors_square   |  None |        0.0         |  None  |\n",
      "|    waterfront    |  None |        0.0         |  None  |\n",
      "|       view       |  None | 10085.699919896815 |  None  |\n",
      "|    condition     |  None |        0.0         |  None  |\n",
      "|      grade       |  None | 3535.5144439584255 |  None  |\n",
      "|    sqft_above    |  None | 32.56675745673367  |  None  |\n",
      "|  sqft_basement   |  None | 11.300789979487474 |  None  |\n",
      "|     yr_built     |  None |        0.0         |  None  |\n",
      "|   yr_renovated   |  None |        0.0         |  None  |\n",
      "+------------------+-------+--------------------+--------+\n",
      "[18 rows x 4 columns]\n",
      "\n",
      "None\n",
      "3056315789.4736843 \t 9.8018848880e+14\n",
      "+------------------+-------+--------------------+--------+\n",
      "|       name       | index |       value        | stderr |\n",
      "+------------------+-------+--------------------+--------+\n",
      "|   (intercept)    |  None | 200683.66035165946 |  None  |\n",
      "|     bedrooms     |  None | 1968.3805428966655 |  None  |\n",
      "| bedrooms_square  |  None |        0.0         |  None  |\n",
      "|    bathrooms     |  None | 17679.236565937288 |  None  |\n",
      "|   sqft_living    |  None | 33.917358940698215 |  None  |\n",
      "| sqft_living_sqrt |  None |  776.036408008998  |  None  |\n",
      "|     sqft_lot     |  None |        0.0         |  None  |\n",
      "|  sqft_lot_sqrt   |  None |        0.0         |  None  |\n",
      "|      floors      |  None | 3093.201624749242  |  None  |\n",
      "|  floors_square   |  None |        0.0         |  None  |\n",
      "|    waterfront    |  None |        0.0         |  None  |\n",
      "|       view       |  None | 8621.400298429053  |  None  |\n",
      "|    condition     |  None |        0.0         |  None  |\n",
      "|      grade       |  None | 3484.6440838422814 |  None  |\n",
      "|    sqft_above    |  None | 32.35986480777005  |  None  |\n",
      "|  sqft_basement   |  None |  9.54849118827467  |  None  |\n",
      "|     yr_built     |  None |        0.0         |  None  |\n",
      "|   yr_renovated   |  None |        0.0         |  None  |\n",
      "+------------------+-------+--------------------+--------+\n",
      "[18 rows x 4 columns]\n",
      "\n",
      "None\n",
      "3099473684.2105265 \t 9.8821775189e+14\n",
      "+------------------+-------+--------------------+--------+\n",
      "|       name       | index |       value        | stderr |\n",
      "+------------------+-------+--------------------+--------+\n",
      "|   (intercept)    |  None | 203119.24962860503 |  None  |\n",
      "|     bedrooms     |  None | 1842.9664360009058 |  None  |\n",
      "| bedrooms_square  |  None |        0.0         |  None  |\n",
      "|    bathrooms     |  None | 17510.648908023064 |  None  |\n",
      "|   sqft_living    |  None | 33.78083776207682  |  None  |\n",
      "| sqft_living_sqrt |  None | 768.0612232665452  |  None  |\n",
      "|     sqft_lot     |  None |        0.0         |  None  |\n",
      "|  sqft_lot_sqrt   |  None |        0.0         |  None  |\n",
      "|      floors      |  None | 2761.973258908937  |  None  |\n",
      "|  floors_square   |  None |        0.0         |  None  |\n",
      "|    waterfront    |  None |        0.0         |  None  |\n",
      "|       view       |  None | 7142.734403648105  |  None  |\n",
      "|    condition     |  None |        0.0         |  None  |\n",
      "|      grade       |  None | 3428.9818195392863 |  None  |\n",
      "|    sqft_above    |  None | 32.135936823953514 |  None  |\n",
      "|  sqft_basement   |  None | 7.754717154186348  |  None  |\n",
      "|     yr_built     |  None |        0.0         |  None  |\n",
      "|   yr_renovated   |  None |        0.0         |  None  |\n",
      "+------------------+-------+--------------------+--------+\n",
      "[18 rows x 4 columns]\n",
      "\n",
      "None\n",
      "3142631578.9473686 \t 9.9753347842e+14\n",
      "+------------------+-------+--------------------+--------+\n",
      "|       name       | index |       value        | stderr |\n",
      "+------------------+-------+--------------------+--------+\n",
      "|   (intercept)    |  None | 205499.73755004883 |  None  |\n",
      "|     bedrooms     |  None | 1702.076377990204  |  None  |\n",
      "| bedrooms_square  |  None |        0.0         |  None  |\n",
      "|    bathrooms     |  None | 17316.864200733828 |  None  |\n",
      "|   sqft_living    |  None | 33.62046012193908  |  None  |\n",
      "| sqft_living_sqrt |  None | 758.8587190209956  |  None  |\n",
      "|     sqft_lot     |  None |        0.0         |  None  |\n",
      "|  sqft_lot_sqrt   |  None |        0.0         |  None  |\n",
      "|      floors      |  None | 2391.359870297283  |  None  |\n",
      "|  floors_square   |  None |        0.0         |  None  |\n",
      "|    waterfront    |  None |        0.0         |  None  |\n",
      "|       view       |  None | 5642.635256998755  |  None  |\n",
      "|    condition     |  None |        0.0         |  None  |\n",
      "|      grade       |  None |  3366.03121573484  |  None  |\n",
      "|    sqft_above    |  None | 31.883586067522955 |  None  |\n",
      "|  sqft_basement   |  None | 5.914359840765601  |  None  |\n",
      "|     yr_built     |  None |        0.0         |  None  |\n",
      "|   yr_renovated   |  None |        0.0         |  None  |\n",
      "+------------------+-------+--------------------+--------+\n",
      "[18 rows x 4 columns]\n",
      "\n",
      "None\n",
      "3185789473.6842103 \t 1.0072545015e+15\n",
      "+------------------+-------+--------------------+--------+\n",
      "|       name       | index |       value        | stderr |\n",
      "+------------------+-------+--------------------+--------+\n",
      "|   (intercept)    |  None | 207867.4751791942  |  None  |\n",
      "|     bedrooms     |  None | 1557.5898005902684 |  None  |\n",
      "| bedrooms_square  |  None |        0.0         |  None  |\n",
      "|    bathrooms     |  None | 17117.119145012693 |  None  |\n",
      "|   sqft_living    |  None | 33.45445881538471  |  None  |\n",
      "| sqft_living_sqrt |  None |  749.369704709392  |  None  |\n",
      "|     sqft_lot     |  None |        0.0         |  None  |\n",
      "|  sqft_lot_sqrt   |  None |        0.0         |  None  |\n",
      "|      floors      |  None | 2011.2409526079814 |  None  |\n",
      "|  floors_square   |  None |        0.0         |  None  |\n",
      "|    waterfront    |  None |        0.0         |  None  |\n",
      "|       view       |  None | 4137.583576355224  |  None  |\n",
      "|    condition     |  None |        0.0         |  None  |\n",
      "|      grade       |  None | 3301.379523060087  |  None  |\n",
      "|    sqft_above    |  None | 31.624462090357273 |  None  |\n",
      "|  sqft_basement   |  None | 4.064054119835157  |  None  |\n",
      "|     yr_built     |  None |        0.0         |  None  |\n",
      "|   yr_renovated   |  None |        0.0         |  None  |\n",
      "+------------------+-------+--------------------+--------+\n",
      "[18 rows x 4 columns]\n",
      "\n",
      "None\n",
      "3228947368.4210525 \t 1.0171043877e+15\n",
      "+------------------+-------+--------------------+--------+\n",
      "|       name       | index |       value        | stderr |\n",
      "+------------------+-------+--------------------+--------+\n",
      "|   (intercept)    |  None | 210235.22685311033 |  None  |\n",
      "|     bedrooms     |  None | 1413.1023661355464 |  None  |\n",
      "| bedrooms_square  |  None |        0.0         |  None  |\n",
      "|    bathrooms     |  None | 16917.37290445863  |  None  |\n",
      "|   sqft_living    |  None | 33.28845652415609  |  None  |\n",
      "| sqft_living_sqrt |  None | 739.8806341115571  |  None  |\n",
      "|     sqft_lot     |  None |        0.0         |  None  |\n",
      "|  sqft_lot_sqrt   |  None |        0.0         |  None  |\n",
      "|      floors      |  None | 1631.1197801574713 |  None  |\n",
      "|  floors_square   |  None |        0.0         |  None  |\n",
      "|    waterfront    |  None |        0.0         |  None  |\n",
      "|       view       |  None | 2632.5229681577443 |  None  |\n",
      "|    condition     |  None |        0.0         |  None  |\n",
      "|      grade       |  None | 3236.7274468892174 |  None  |\n",
      "|    sqft_above    |  None | 31.365336576139224 |  None  |\n",
      "|  sqft_basement   |  None | 2.213737423398382  |  None  |\n",
      "|     yr_built     |  None |        0.0         |  None  |\n",
      "|   yr_renovated   |  None |        0.0         |  None  |\n",
      "+------------------+-------+--------------------+--------+\n",
      "[18 rows x 4 columns]\n",
      "\n",
      "None\n",
      "3272105263.1578946 \t 1.0270830202e+15\n",
      "+------------------+-------+---------------------+--------+\n",
      "|       name       | index |        value        | stderr |\n",
      "+------------------+-------+---------------------+--------+\n",
      "|   (intercept)    |  None |  212602.9644822558  |  None  |\n",
      "|     bedrooms     |  None |  1268.6157887356194 |  None  |\n",
      "| bedrooms_square  |  None |         0.0         |  None  |\n",
      "|    bathrooms     |  None |  16717.627848737437 |  None  |\n",
      "|   sqft_living    |  None |  33.12245521760172  |  None  |\n",
      "| sqft_living_sqrt |  None |  730.3916197999536  |  None  |\n",
      "|     sqft_lot     |  None |         0.0         |  None  |\n",
      "|  sqft_lot_sqrt   |  None |         0.0         |  None  |\n",
      "|      floors      |  None |  1251.0008624681918 |  None  |\n",
      "|  floors_square   |  None |         0.0         |  None  |\n",
      "|    waterfront    |  None |         0.0         |  None  |\n",
      "|       view       |  None |  1127.471287514194  |  None  |\n",
      "|    condition     |  None |         0.0         |  None  |\n",
      "|      grade       |  None |  3172.0757542144606 |  None  |\n",
      "|    sqft_above    |  None |  31.10621259897352  |  None  |\n",
      "|  sqft_basement   |  None | 0.36343170246791484 |  None  |\n",
      "|     yr_built     |  None |         0.0         |  None  |\n",
      "|   yr_renovated   |  None |         0.0         |  None  |\n",
      "+------------------+-------+---------------------+--------+\n",
      "[18 rows x 4 columns]\n",
      "\n",
      "None\n",
      "3315263157.894737 \t 1.0341776124e+15\n",
      "+------------------+-------+--------------------+--------+\n",
      "|       name       | index |       value        | stderr |\n",
      "+------------------+-------+--------------------+--------+\n",
      "|   (intercept)    |  None | 214971.1120906498  |  None  |\n",
      "|     bedrooms     |  None | 1124.2624546496884 |  None  |\n",
      "| bedrooms_square  |  None |        0.0         |  None  |\n",
      "|    bathrooms     |  None | 16518.121706713846 |  None  |\n",
      "|   sqft_living    |  None | 32.95663208362785  |  None  |\n",
      "| sqft_living_sqrt |  None | 720.9116824249176  |  None  |\n",
      "|     sqft_lot     |  None |        0.0         |  None  |\n",
      "|  sqft_lot_sqrt   |  None |        0.0         |  None  |\n",
      "|      floors      |  None | 871.2867445183789  |  None  |\n",
      "|  floors_square   |  None |        0.0         |  None  |\n",
      "|    waterfront    |  None |        0.0         |  None  |\n",
      "|       view       |  None |        0.0         |  None  |\n",
      "|    condition     |  None |        0.0         |  None  |\n",
      "|      grade       |  None | 3107.478858897871  |  None  |\n",
      "|    sqft_above    |  None | 30.847265213601716 |  None  |\n",
      "|  sqft_basement   |  None |        0.0         |  None  |\n",
      "|     yr_built     |  None |        0.0         |  None  |\n",
      "|   yr_renovated   |  None |        0.0         |  None  |\n",
      "+------------------+-------+--------------------+--------+\n",
      "[18 rows x 4 columns]\n",
      "\n",
      "None\n",
      "3358421052.631579 \t 1.0381303889e+15\n",
      "+------------------+-------+--------------------+--------+\n",
      "|       name       | index |       value        | stderr |\n",
      "+------------------+-------+--------------------+--------+\n",
      "|   (intercept)    |  None | 217344.39868129688 |  None  |\n",
      "|     bedrooms     |  None | 981.6552735266258  |  None  |\n",
      "| bedrooms_square  |  None |        0.0         |  None  |\n",
      "|    bathrooms     |  None | 16321.741595386886 |  None  |\n",
      "|   sqft_living    |  None |  32.7931416387557  |  None  |\n",
      "| sqft_living_sqrt |  None | 711.5506688420458  |  None  |\n",
      "|     sqft_lot     |  None |        0.0         |  None  |\n",
      "|  sqft_lot_sqrt   |  None |        0.0         |  None  |\n",
      "|      floors      |  None | 496.8726337587576  |  None  |\n",
      "|  floors_square   |  None |        0.0         |  None  |\n",
      "|    waterfront    |  None |        0.0         |  None  |\n",
      "|       view       |  None |        0.0         |  None  |\n",
      "|    condition     |  None |        0.0         |  None  |\n",
      "|      grade       |  None |  3043.60051750487  |  None  |\n",
      "|    sqft_above    |  None | 30.590637685129863 |  None  |\n",
      "|  sqft_basement   |  None |        0.0         |  None  |\n",
      "|     yr_built     |  None |        0.0         |  None  |\n",
      "|   yr_renovated   |  None |        0.0         |  None  |\n",
      "+------------------+-------+--------------------+--------+\n",
      "[18 rows x 4 columns]\n",
      "\n",
      "None\n",
      "3401578947.368421 \t 1.0427351904e+15\n",
      "+------------------+-------+--------------------+--------+\n",
      "|       name       | index |       value        | stderr |\n",
      "+------------------+-------+--------------------+--------+\n",
      "|   (intercept)    |  None | 219690.54718670025 |  None  |\n",
      "|     bedrooms     |  None | 831.0697183033974  |  None  |\n",
      "| bedrooms_square  |  None |        0.0         |  None  |\n",
      "|    bathrooms     |  None | 16111.64378069685  |  None  |\n",
      "|   sqft_living    |  None | 32.614401794667444 |  None  |\n",
      "| sqft_living_sqrt |  None | 701.5008948828471  |  None  |\n",
      "|     sqft_lot     |  None |        0.0         |  None  |\n",
      "|  sqft_lot_sqrt   |  None |        0.0         |  None  |\n",
      "|      floors      |  None | 105.67451440703559 |  None  |\n",
      "|  floors_square   |  None |        0.0         |  None  |\n",
      "|    waterfront    |  None |        0.0         |  None  |\n",
      "|       view       |  None |        0.0         |  None  |\n",
      "|    condition     |  None |        0.0         |  None  |\n",
      "|      grade       |  None | 2975.8222281406584 |  None  |\n",
      "|    sqft_above    |  None | 30.31843391322579  |  None  |\n",
      "|  sqft_basement   |  None |        0.0         |  None  |\n",
      "|     yr_built     |  None |        0.0         |  None  |\n",
      "|   yr_renovated   |  None |        0.0         |  None  |\n",
      "+------------------+-------+--------------------+--------+\n",
      "[18 rows x 4 columns]\n",
      "\n",
      "None\n",
      "3444736842.105263 \t 1.0465792348e+15\n",
      "+------------------+-------+--------------------+--------+\n",
      "|       name       | index |       value        | stderr |\n",
      "+------------------+-------+--------------------+--------+\n",
      "|   (intercept)    |  None | 222024.8664513072  |  None  |\n",
      "|     bedrooms     |  None | 677.0136171468894  |  None  |\n",
      "| bedrooms_square  |  None |        0.0         |  None  |\n",
      "|    bathrooms     |  None | 15895.578429969808 |  None  |\n",
      "|   sqft_living    |  None | 32.42902762277982  |  None  |\n",
      "| sqft_living_sqrt |  None | 691.1514890867779  |  None  |\n",
      "|     sqft_lot     |  None |        0.0         |  None  |\n",
      "|  sqft_lot_sqrt   |  None |        0.0         |  None  |\n",
      "|      floors      |  None |        0.0         |  None  |\n",
      "|  floors_square   |  None |        0.0         |  None  |\n",
      "|    waterfront    |  None |        0.0         |  None  |\n",
      "|       view       |  None |        0.0         |  None  |\n",
      "|    condition     |  None |        0.0         |  None  |\n",
      "|      grade       |  None | 2906.347434654031  |  None  |\n",
      "|    sqft_above    |  None | 30.03945438133864  |  None  |\n",
      "|  sqft_basement   |  None |        0.0         |  None  |\n",
      "|     yr_built     |  None |        0.0         |  None  |\n",
      "|   yr_renovated   |  None |        0.0         |  None  |\n",
      "+------------------+-------+--------------------+--------+\n",
      "[18 rows x 4 columns]\n",
      "\n",
      "None\n",
      "3487894736.8421054 \t 1.0506939102e+15\n",
      "+------------------+-------+--------------------+--------+\n",
      "|       name       | index |       value        | stderr |\n",
      "+------------------+-------+--------------------+--------+\n",
      "|   (intercept)    |  None | 224332.50748547429 |  None  |\n",
      "|     bedrooms     |  None |  513.423304208452  |  None  |\n",
      "| bedrooms_square  |  None |        0.0         |  None  |\n",
      "|    bathrooms     |  None | 15664.123384716559 |  None  |\n",
      "|   sqft_living    |  None | 32.22481992990287  |  None  |\n",
      "| sqft_living_sqrt |  None | 680.0281935103976  |  None  |\n",
      "|     sqft_lot     |  None |        0.0         |  None  |\n",
      "|  sqft_lot_sqrt   |  None |        0.0         |  None  |\n",
      "|      floors      |  None |        0.0         |  None  |\n",
      "|  floors_square   |  None |        0.0         |  None  |\n",
      "|    waterfront    |  None |        0.0         |  None  |\n",
      "|       view       |  None |        0.0         |  None  |\n",
      "|    condition     |  None |        0.0         |  None  |\n",
      "|      grade       |  None | 2832.7962552309546 |  None  |\n",
      "|    sqft_above    |  None | 29.74469330078526  |  None  |\n",
      "|  sqft_basement   |  None |        0.0         |  None  |\n",
      "|     yr_built     |  None |        0.0         |  None  |\n",
      "|   yr_renovated   |  None |        0.0         |  None  |\n",
      "+------------------+-------+--------------------+--------+\n",
      "[18 rows x 4 columns]\n",
      "\n",
      "None\n",
      "3531052631.578947 \t 1.0555576010e+15\n",
      "+------------------+-------+--------------------+--------+\n",
      "|       name       | index |       value        | stderr |\n",
      "+------------------+-------+--------------------+--------+\n",
      "|   (intercept)    |  None | 226604.5530355128  |  None  |\n",
      "|     bedrooms     |  None | 337.7551672174211  |  None  |\n",
      "| bedrooms_square  |  None |        0.0         |  None  |\n",
      "|    bathrooms     |  None | 15415.146392708546 |  None  |\n",
      "|   sqft_living    |  None |  32.0016456332347  |  None  |\n",
      "| sqft_living_sqrt |  None | 668.0201142980949  |  None  |\n",
      "|     sqft_lot     |  None |        0.0         |  None  |\n",
      "|  sqft_lot_sqrt   |  None |        0.0         |  None  |\n",
      "|      floors      |  None |        0.0         |  None  |\n",
      "|  floors_square   |  None |        0.0         |  None  |\n",
      "|    waterfront    |  None |        0.0         |  None  |\n",
      "|       view       |  None |        0.0         |  None  |\n",
      "|    condition     |  None |        0.0         |  None  |\n",
      "|      grade       |  None | 2754.505477107553  |  None  |\n",
      "|    sqft_above    |  None | 29.433814687369132 |  None  |\n",
      "|  sqft_basement   |  None |        0.0         |  None  |\n",
      "|     yr_built     |  None |        0.0         |  None  |\n",
      "|   yr_renovated   |  None |        0.0         |  None  |\n",
      "+------------------+-------+--------------------+--------+\n",
      "[18 rows x 4 columns]\n",
      "\n",
      "None\n",
      "3574210526.315789 \t 1.0603901709e+15\n",
      "+------------------+-------+--------------------+--------+\n",
      "|       name       | index |       value        | stderr |\n",
      "+------------------+-------+--------------------+--------+\n",
      "|   (intercept)    |  None | 228884.68889266922 |  None  |\n",
      "|     bedrooms     |  None | 164.0814575561003  |  None  |\n",
      "| bedrooms_square  |  None |        0.0         |  None  |\n",
      "|    bathrooms     |  None | 15167.661603022902 |  None  |\n",
      "|   sqft_living    |  None | 31.777619686176696 |  None  |\n",
      "| sqft_living_sqrt |  None | 656.0870126216995  |  None  |\n",
      "|     sqft_lot     |  None |        0.0         |  None  |\n",
      "|  sqft_lot_sqrt   |  None |        0.0         |  None  |\n",
      "|      floors      |  None |        0.0         |  None  |\n",
      "|  floors_square   |  None |        0.0         |  None  |\n",
      "|    waterfront    |  None |        0.0         |  None  |\n",
      "|       view       |  None |        0.0         |  None  |\n",
      "|    condition     |  None |        0.0         |  None  |\n",
      "|      grade       |  None | 2676.8159273129327 |  None  |\n",
      "|    sqft_above    |  None | 29.124157245939234 |  None  |\n",
      "|  sqft_basement   |  None |        0.0         |  None  |\n",
      "|     yr_built     |  None |        0.0         |  None  |\n",
      "|   yr_renovated   |  None |        0.0         |  None  |\n",
      "+------------------+-------+--------------------+--------+\n",
      "[18 rows x 4 columns]\n",
      "\n",
      "None\n",
      "3617368421.0526314 \t 1.0654058184e+15\n",
      "+------------------+-------+-------------------+--------+\n",
      "|       name       | index |       value       | stderr |\n",
      "+------------------+-------+-------------------+--------+\n",
      "|   (intercept)    |  None | 231153.4213586449 |  None  |\n",
      "|     bedrooms     |  None |        0.0        |  None  |\n",
      "| bedrooms_square  |  None |        0.0        |  None  |\n",
      "|    bathrooms     |  None | 14913.61216147076 |  None  |\n",
      "|   sqft_living    |  None |  31.547441303512  |  None  |\n",
      "| sqft_living_sqrt |  None |  643.869631877489 |  None  |\n",
      "|     sqft_lot     |  None |        0.0        |  None  |\n",
      "|  sqft_lot_sqrt   |  None |        0.0        |  None  |\n",
      "|      floors      |  None |        0.0        |  None  |\n",
      "|  floors_square   |  None |        0.0        |  None  |\n",
      "|    waterfront    |  None |        0.0        |  None  |\n",
      "|       view       |  None |        0.0        |  None  |\n",
      "|    condition     |  None |        0.0        |  None  |\n",
      "|      grade       |  None | 2597.413695507595 |  None  |\n",
      "|    sqft_above    |  None | 28.80678586040021 |  None  |\n",
      "|  sqft_basement   |  None |        0.0        |  None  |\n",
      "|     yr_built     |  None |        0.0        |  None  |\n",
      "|   yr_renovated   |  None |        0.0        |  None  |\n",
      "+------------------+-------+-------------------+--------+\n",
      "[18 rows x 4 columns]\n",
      "\n",
      "None\n",
      "3660526315.7894735 \t 1.0691779629e+15\n",
      "+------------------+-------+--------------------+--------+\n",
      "|       name       | index |       value        | stderr |\n",
      "+------------------+-------+--------------------+--------+\n",
      "|   (intercept)    |  None | 233416.4622387777  |  None  |\n",
      "|     bedrooms     |  None |        0.0         |  None  |\n",
      "| bedrooms_square  |  None |        0.0         |  None  |\n",
      "|    bathrooms     |  None | 14656.584927268375 |  None  |\n",
      "|   sqft_living    |  None | 31.314694605889898 |  None  |\n",
      "| sqft_living_sqrt |  None | 631.5222643349107  |  None  |\n",
      "|     sqft_lot     |  None |        0.0         |  None  |\n",
      "|  sqft_lot_sqrt   |  None |        0.0         |  None  |\n",
      "|      floors      |  None |        0.0         |  None  |\n",
      "|  floors_square   |  None |        0.0         |  None  |\n",
      "|    waterfront    |  None |        0.0         |  None  |\n",
      "|       view       |  None |        0.0         |  None  |\n",
      "|    condition     |  None |        0.0         |  None  |\n",
      "|      grade       |  None | 2517.2135070155514 |  None  |\n",
      "|    sqft_above    |  None | 28.485967794236604 |  None  |\n",
      "|  sqft_basement   |  None |        0.0         |  None  |\n",
      "|     yr_built     |  None |        0.0         |  None  |\n",
      "|   yr_renovated   |  None |        0.0         |  None  |\n",
      "+------------------+-------+--------------------+--------+\n",
      "[18 rows x 4 columns]\n",
      "\n",
      "None\n",
      "3703684210.5263157 \t 1.0732098240e+15\n",
      "+------------------+-------+--------------------+--------+\n",
      "|       name       | index |       value        | stderr |\n",
      "+------------------+-------+--------------------+--------+\n",
      "|   (intercept)    |  None | 235672.09203712668 |  None  |\n",
      "|     bedrooms     |  None |        0.0         |  None  |\n",
      "| bedrooms_square  |  None |        0.0         |  None  |\n",
      "|    bathrooms     |  None | 14392.650267539993 |  None  |\n",
      "|   sqft_living    |  None | 31.07086810656092  |  None  |\n",
      "| sqft_living_sqrt |  None | 618.8136336416271  |  None  |\n",
      "|     sqft_lot     |  None |        0.0         |  None  |\n",
      "|  sqft_lot_sqrt   |  None |        0.0         |  None  |\n",
      "|      floors      |  None |        0.0         |  None  |\n",
      "|  floors_square   |  None |        0.0         |  None  |\n",
      "|    waterfront    |  None |        0.0         |  None  |\n",
      "|       view       |  None |        0.0         |  None  |\n",
      "|    condition     |  None |        0.0         |  None  |\n",
      "|      grade       |  None | 2435.5440465604133 |  None  |\n",
      "|    sqft_above    |  None | 28.161708355039693 |  None  |\n",
      "|  sqft_basement   |  None |        0.0         |  None  |\n",
      "|     yr_built     |  None |        0.0         |  None  |\n",
      "|   yr_renovated   |  None |        0.0         |  None  |\n",
      "+------------------+-------+--------------------+--------+\n",
      "[18 rows x 4 columns]\n",
      "\n",
      "None\n",
      "3746842105.263158 \t 1.0773551453e+15\n",
      "+------------------+-------+--------------------+--------+\n",
      "|       name       | index |       value        | stderr |\n",
      "+------------------+-------+--------------------+--------+\n",
      "|   (intercept)    |  None | 237923.73395759988 |  None  |\n",
      "|     bedrooms     |  None |        0.0         |  None  |\n",
      "| bedrooms_square  |  None |        0.0         |  None  |\n",
      "|    bathrooms     |  None | 14126.035239982677 |  None  |\n",
      "|   sqft_living    |  None | 30.823313415056504 |  None  |\n",
      "| sqft_living_sqrt |  None | 605.9653472077327  |  None  |\n",
      "|     sqft_lot     |  None |        0.0         |  None  |\n",
      "|  sqft_lot_sqrt   |  None |        0.0         |  None  |\n",
      "|      floors      |  None |        0.0         |  None  |\n",
      "|  floors_square   |  None |        0.0         |  None  |\n",
      "|    waterfront    |  None |        0.0         |  None  |\n",
      "|       view       |  None |        0.0         |  None  |\n",
      "|    condition     |  None |        0.0         |  None  |\n",
      "|      grade       |  None | 2353.2572431298986 |  None  |\n",
      "|    sqft_above    |  None | 27.836061133393052 |  None  |\n",
      "|  sqft_basement   |  None |        0.0         |  None  |\n",
      "|     yr_built     |  None |        0.0         |  None  |\n",
      "|   yr_renovated   |  None |        0.0         |  None  |\n",
      "+------------------+-------+--------------------+--------+\n",
      "[18 rows x 4 columns]\n",
      "\n",
      "None\n",
      "3790000000.0 \t 1.0815897861e+15\n",
      "+------------------+-------+--------------------+--------+\n",
      "|       name       | index |       value        | stderr |\n",
      "+------------------+-------+--------------------+--------+\n",
      "|   (intercept)    |  None | 240170.62088772355 |  None  |\n",
      "|     bedrooms     |  None |        0.0         |  None  |\n",
      "| bedrooms_square  |  None |        0.0         |  None  |\n",
      "|    bathrooms     |  None | 13857.695802261804 |  None  |\n",
      "|   sqft_living    |  None | 30.574187706669907 |  None  |\n",
      "| sqft_living_sqrt |  None | 593.0239405319353  |  None  |\n",
      "|     sqft_lot     |  None |        0.0         |  None  |\n",
      "|  sqft_lot_sqrt   |  None |        0.0         |  None  |\n",
      "|      floors      |  None |        0.0         |  None  |\n",
      "|  floors_square   |  None |        0.0         |  None  |\n",
      "|    waterfront    |  None |        0.0         |  None  |\n",
      "|       view       |  None |        0.0         |  None  |\n",
      "|    condition     |  None |        0.0         |  None  |\n",
      "|      grade       |  None | 2270.3954244040838 |  None  |\n",
      "|    sqft_above    |  None | 27.508624490607136 |  None  |\n",
      "|  sqft_basement   |  None |        0.0         |  None  |\n",
      "|     yr_built     |  None |        0.0         |  None  |\n",
      "|   yr_renovated   |  None |        0.0         |  None  |\n",
      "+------------------+-------+--------------------+--------+\n",
      "[18 rows x 4 columns]\n",
      "\n",
      "None\n"
     ]
    }
   ],
   "source": [
    "rss = []\n",
    "l1_p_array = []\n",
    "for l1_penalty in l1_penalty_values:\n",
    "    model = turicreate.linear_regression.create(training,\n",
    "                                                target='price',\n",
    "                                                features=all_features,\n",
    "                                                l1_penalty=l1_penalty,\n",
    "                                                l2_penalty=0,\n",
    "                                                validation_set=None,\n",
    "                                                verbose=False)\n",
    "    predictions = model.predict(validation)\n",
    "    residuals = predictions - validation['price']\n",
    "    residuals *= residuals\n",
    "    rss.append(residuals.sum())\n",
    "    l1_p_array.append(l1_penalty)\n",
    "    #print('{:.2e}'.format(l1_penalty), '\\t', '{:.10e}'.format(residuals.sum()))\n",
    "    print(l1_penalty, '\\t', '{:.10e}'.format(residuals.sum()))    \n",
    "    print(model.coefficients.print_rows(num_rows=20))"
   ]
  },
  {
   "cell_type": "markdown",
   "metadata": {},
   "source": [
    "***QUIZ QUESTIONS***\n",
    "1. What value of `l1_penalty` in our narrow range has the lowest RSS on the VALIDATION set and has sparsity *equal* to `max_nonzeros`?\n",
    "\n",
    "    3444736842\n",
    "\n",
    "2. What features in this model have non-zero coefficients?\n",
    "\n",
    "    - bedrooms\n",
    "    - bathrooms\n",
    "    - sqft_living\n",
    "    - sqft_living_sqrt\n",
    "    - grade\n",
    "    - sqft_above"
   ]
  },
  {
   "cell_type": "code",
   "execution_count": null,
   "metadata": {},
   "outputs": [],
   "source": []
  }
 ],
 "metadata": {
  "kernelspec": {
   "display_name": "Python 3",
   "language": "python",
   "name": "python3"
  },
  "language_info": {
   "codemirror_mode": {
    "name": "ipython",
    "version": 3
   },
   "file_extension": ".py",
   "mimetype": "text/x-python",
   "name": "python",
   "nbconvert_exporter": "python",
   "pygments_lexer": "ipython3",
   "version": "3.6.12"
  }
 },
 "nbformat": 4,
 "nbformat_minor": 4
}
